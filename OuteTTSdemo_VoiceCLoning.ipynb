{
  "nbformat": 4,
  "nbformat_minor": 0,
  "metadata": {
    "colab": {
      "provenance": [],
      "gpuType": "T4"
    },
    "kernelspec": {
      "name": "python3",
      "display_name": "Python 3"
    },
    "language_info": {
      "name": "python"
    },
    "accelerator": "GPU"
  },
  "cells": [
    {
      "cell_type": "markdown",
      "source": [
        "### Details :\n",
        "\n",
        "Official website : https://www.outeai.com/\n",
        "\n",
        "\n",
        "Huggingface : https://huggingface.co/OuteAI/OuteTTS-0.2-\n",
        "\n",
        "Github : https://github.com/edwko/OuteTTS\n",
        "\n",
        "If you want to install the gguf models locally :\n",
        "\n",
        "https://huggingface.co/OuteAI/OuteTTS-0.2-500M-GGUF/tree/main\n",
        "\n",
        "\n",
        "Currently supports 4 languages : English, Chineese, Japaneese and Korean"
      ],
      "metadata": {
        "id": "FEQs7TIiHZJk"
      }
    },
    {
      "cell_type": "markdown",
      "source": [
        "### If you are running this on Google Collab, make sure to change the runtime to T4 GPU\n"
      ],
      "metadata": {
        "id": "MOUdSj4gJD44"
      }
    },
    {
      "cell_type": "markdown",
      "source": [
        "### To install the package :\n",
        "\n",
        "1. !pip install outetts\n",
        "\n",
        "2. https://pypi.org/project/llama-cpp-python/  , go here and !pip install llama-cpp-python"
      ],
      "metadata": {
        "id": "IBKmCYQTHtVg"
      }
    },
    {
      "cell_type": "markdown",
      "source": [
        "## Case 1 : Using the OuteTTS model to convert the input prompt into a speech output ."
      ],
      "metadata": {
        "id": "TjhHbwOdPSe1"
      }
    },
    {
      "cell_type": "code",
      "source": [],
      "metadata": {
        "id": "JZGjos7vPQ7f"
      },
      "execution_count": null,
      "outputs": []
    },
    {
      "cell_type": "code",
      "source": [
        "!pip install outetts\n",
        "\n",
        "import outetts\n",
        "\n",
        "# Configure the model\n",
        "model_config = outetts.HFModelConfig_v1(\n",
        "    model_path=\"OuteAI/OuteTTS-0.2-500M\",\n",
        "    language=\"en\",\n",
        ")\n",
        "\n",
        "# Initialize the interface\n",
        "interface = outetts.InterfaceHF(model_version=\"0.2\", cfg=model_config)\n",
        "\n",
        "# Optional: Load speaker from default presets\n",
        "interface.print_default_speakers()\n",
        "\n",
        "speaker = interface.load_default_speaker(name=\"female_1\")\n",
        "\n",
        "output = interface.generate(\n",
        "        text =\"Marketers make change happen for the smallest viable market and by delivering anticipated, personal, \\\n",
        "        and relevant messages that people actually want to get.\",\n",
        "        temperature=0.1,\n",
        "        repetition_penalty=1.1,\n",
        "        max_length=4096,\n",
        "        speaker=speaker,\n",
        "        )\n",
        "\n",
        "output.save(\"speech_op_1.wav\")\n",
        "\n",
        "output.play()\n",
        "\n",
        "\n",
        "\n",
        "# Understandinf the code :\n",
        "\n",
        "\n",
        "# model_config snippet : Sets up the configuration for the text-to-speech model. It specifies the model to use (\"OuteAI/OuteTTS-0.2-500M\") and the language (\"en\" for English).\n",
        "# interface snippet : Creates an interface object to interact with the chosen text-to-speech model, using configuration provided.\n",
        "# interface.print snippet : Displays available speaker options. Useful for selection.\n",
        "# speaker snippet : Loads a specific speaker preset (female_1 in this case) for generating audio with a female voice.\n",
        "# output snippet : Generates the audio from the input text using the chosen speaker\n",
        "# output.save : Saves the generated audio to a file named \"output.wav\".\n",
        "# output.play() : Plays the generated audio file.\n",
        "\n",
        "\n",
        "# terminologies used :\n",
        "# temperature : A lower temperature (like 0.1) results in more predictable and less varied audio\n",
        "# repetition_penalty=1.1 : This parameter prevents the model from repeating words or phrases excessively.\n",
        "# max_length=4096 : This sets a limit on the length of the generated audio. It's expressed in a unit related to the internal representation of the text-to-speech model\n"
      ],
      "metadata": {
        "id": "l-d6thh5HYth",
        "colab": {
          "base_uri": "https://localhost:8080/"
        },
        "outputId": "be1fa2ba-699c-4594-8c09-434c612021d3"
      },
      "execution_count": 2,
      "outputs": [
        {
          "output_type": "stream",
          "name": "stdout",
          "text": [
            "Requirement already satisfied: outetts in /usr/local/lib/python3.10/dist-packages (0.2.1)\n",
            "Requirement already satisfied: scipy in /usr/local/lib/python3.10/dist-packages (from outetts) (1.13.1)\n",
            "Requirement already satisfied: einops in /usr/local/lib/python3.10/dist-packages (from outetts) (0.8.0)\n",
            "Requirement already satisfied: pyyaml in /usr/local/lib/python3.10/dist-packages (from outetts) (6.0.2)\n",
            "Requirement already satisfied: huggingface-hub in /usr/local/lib/python3.10/dist-packages (from outetts) (0.26.3)\n",
            "Requirement already satisfied: encodec in /usr/local/lib/python3.10/dist-packages (from outetts) (0.1.1)\n",
            "Requirement already satisfied: matplotlib in /usr/local/lib/python3.10/dist-packages (from outetts) (3.8.0)\n",
            "Requirement already satisfied: transformers>=4.46.1 in /usr/local/lib/python3.10/dist-packages (from outetts) (4.46.3)\n",
            "Requirement already satisfied: pytorch-lightning in /usr/local/lib/python3.10/dist-packages (from outetts) (2.4.0)\n",
            "Requirement already satisfied: tensorboardX in /usr/local/lib/python3.10/dist-packages (from outetts) (2.6.2.2)\n",
            "Requirement already satisfied: soundfile in /usr/local/lib/python3.10/dist-packages (from outetts) (0.12.1)\n",
            "Requirement already satisfied: numpy in /usr/local/lib/python3.10/dist-packages (from outetts) (1.26.4)\n",
            "Requirement already satisfied: jsonargparse in /usr/local/lib/python3.10/dist-packages (from outetts) (4.34.1)\n",
            "Requirement already satisfied: torchcrepe in /usr/local/lib/python3.10/dist-packages (from outetts) (0.0.23)\n",
            "Requirement already satisfied: librosa in /usr/local/lib/python3.10/dist-packages (from outetts) (0.10.2.post1)\n",
            "Requirement already satisfied: pesq in /usr/local/lib/python3.10/dist-packages (from outetts) (0.0.4)\n",
            "Requirement already satisfied: inflect in /usr/local/lib/python3.10/dist-packages (from outetts) (7.4.0)\n",
            "Requirement already satisfied: loguru in /usr/local/lib/python3.10/dist-packages (from outetts) (0.7.3)\n",
            "Requirement already satisfied: polars in /usr/local/lib/python3.10/dist-packages (from outetts) (1.9.0)\n",
            "Requirement already satisfied: natsort in /usr/local/lib/python3.10/dist-packages (from outetts) (8.4.0)\n",
            "Requirement already satisfied: tqdm in /usr/local/lib/python3.10/dist-packages (from outetts) (4.66.6)\n",
            "Requirement already satisfied: requests in /usr/local/lib/python3.10/dist-packages (from outetts) (2.32.3)\n",
            "Requirement already satisfied: sounddevice in /usr/local/lib/python3.10/dist-packages (from outetts) (0.5.1)\n",
            "Requirement already satisfied: mecab-python3 in /usr/local/lib/python3.10/dist-packages (from outetts) (1.0.10)\n",
            "Requirement already satisfied: unidic-lite in /usr/local/lib/python3.10/dist-packages (from outetts) (1.0.8)\n",
            "Requirement already satisfied: uroman in /usr/local/lib/python3.10/dist-packages (from outetts) (1.3.1.1)\n",
            "Requirement already satisfied: openai-whisper>=20240930 in /usr/local/lib/python3.10/dist-packages (from outetts) (20240930)\n",
            "Requirement already satisfied: numba in /usr/local/lib/python3.10/dist-packages (from openai-whisper>=20240930->outetts) (0.60.0)\n",
            "Requirement already satisfied: torch in /usr/local/lib/python3.10/dist-packages (from openai-whisper>=20240930->outetts) (2.5.1+cu121)\n",
            "Requirement already satisfied: more-itertools in /usr/local/lib/python3.10/dist-packages (from openai-whisper>=20240930->outetts) (10.5.0)\n",
            "Requirement already satisfied: tiktoken in /usr/local/lib/python3.10/dist-packages (from openai-whisper>=20240930->outetts) (0.8.0)\n",
            "Requirement already satisfied: triton>=2.0.0 in /usr/local/lib/python3.10/dist-packages (from openai-whisper>=20240930->outetts) (3.1.0)\n",
            "Requirement already satisfied: filelock in /usr/local/lib/python3.10/dist-packages (from transformers>=4.46.1->outetts) (3.16.1)\n",
            "Requirement already satisfied: packaging>=20.0 in /usr/local/lib/python3.10/dist-packages (from transformers>=4.46.1->outetts) (24.2)\n",
            "Requirement already satisfied: regex!=2019.12.17 in /usr/local/lib/python3.10/dist-packages (from transformers>=4.46.1->outetts) (2024.9.11)\n",
            "Requirement already satisfied: tokenizers<0.21,>=0.20 in /usr/local/lib/python3.10/dist-packages (from transformers>=4.46.1->outetts) (0.20.3)\n",
            "Requirement already satisfied: safetensors>=0.4.1 in /usr/local/lib/python3.10/dist-packages (from transformers>=4.46.1->outetts) (0.4.5)\n",
            "Requirement already satisfied: fsspec>=2023.5.0 in /usr/local/lib/python3.10/dist-packages (from huggingface-hub->outetts) (2024.10.0)\n",
            "Requirement already satisfied: typing-extensions>=3.7.4.3 in /usr/local/lib/python3.10/dist-packages (from huggingface-hub->outetts) (4.12.2)\n",
            "Requirement already satisfied: torchaudio in /usr/local/lib/python3.10/dist-packages (from encodec->outetts) (2.5.1+cu121)\n",
            "Requirement already satisfied: typeguard>=4.0.1 in /usr/local/lib/python3.10/dist-packages (from inflect->outetts) (4.4.1)\n",
            "Requirement already satisfied: audioread>=2.1.9 in /usr/local/lib/python3.10/dist-packages (from librosa->outetts) (3.0.1)\n",
            "Requirement already satisfied: scikit-learn>=0.20.0 in /usr/local/lib/python3.10/dist-packages (from librosa->outetts) (1.5.2)\n",
            "Requirement already satisfied: joblib>=0.14 in /usr/local/lib/python3.10/dist-packages (from librosa->outetts) (1.4.2)\n",
            "Requirement already satisfied: decorator>=4.3.0 in /usr/local/lib/python3.10/dist-packages (from librosa->outetts) (4.4.2)\n",
            "Requirement already satisfied: pooch>=1.1 in /usr/local/lib/python3.10/dist-packages (from librosa->outetts) (1.8.2)\n",
            "Requirement already satisfied: soxr>=0.3.2 in /usr/local/lib/python3.10/dist-packages (from librosa->outetts) (0.5.0.post1)\n",
            "Requirement already satisfied: lazy-loader>=0.1 in /usr/local/lib/python3.10/dist-packages (from librosa->outetts) (0.4)\n",
            "Requirement already satisfied: msgpack>=1.0 in /usr/local/lib/python3.10/dist-packages (from librosa->outetts) (1.1.0)\n",
            "Requirement already satisfied: cffi>=1.0 in /usr/local/lib/python3.10/dist-packages (from soundfile->outetts) (1.17.1)\n",
            "Requirement already satisfied: contourpy>=1.0.1 in /usr/local/lib/python3.10/dist-packages (from matplotlib->outetts) (1.3.1)\n",
            "Requirement already satisfied: cycler>=0.10 in /usr/local/lib/python3.10/dist-packages (from matplotlib->outetts) (0.12.1)\n",
            "Requirement already satisfied: fonttools>=4.22.0 in /usr/local/lib/python3.10/dist-packages (from matplotlib->outetts) (4.55.1)\n",
            "Requirement already satisfied: kiwisolver>=1.0.1 in /usr/local/lib/python3.10/dist-packages (from matplotlib->outetts) (1.4.7)\n",
            "Requirement already satisfied: pillow>=6.2.0 in /usr/local/lib/python3.10/dist-packages (from matplotlib->outetts) (11.0.0)\n",
            "Requirement already satisfied: pyparsing>=2.3.1 in /usr/local/lib/python3.10/dist-packages (from matplotlib->outetts) (3.2.0)\n",
            "Requirement already satisfied: python-dateutil>=2.7 in /usr/local/lib/python3.10/dist-packages (from matplotlib->outetts) (2.8.2)\n",
            "Requirement already satisfied: torchmetrics>=0.7.0 in /usr/local/lib/python3.10/dist-packages (from pytorch-lightning->outetts) (1.6.0)\n",
            "Requirement already satisfied: lightning-utilities>=0.10.0 in /usr/local/lib/python3.10/dist-packages (from pytorch-lightning->outetts) (0.11.9)\n",
            "Requirement already satisfied: charset-normalizer<4,>=2 in /usr/local/lib/python3.10/dist-packages (from requests->outetts) (3.4.0)\n",
            "Requirement already satisfied: idna<4,>=2.5 in /usr/local/lib/python3.10/dist-packages (from requests->outetts) (3.10)\n",
            "Requirement already satisfied: urllib3<3,>=1.21.1 in /usr/local/lib/python3.10/dist-packages (from requests->outetts) (2.2.3)\n",
            "Requirement already satisfied: certifi>=2017.4.17 in /usr/local/lib/python3.10/dist-packages (from requests->outetts) (2024.8.30)\n",
            "Requirement already satisfied: protobuf>=3.20 in /usr/local/lib/python3.10/dist-packages (from tensorboardX->outetts) (4.25.5)\n",
            "Requirement already satisfied: resampy in /usr/local/lib/python3.10/dist-packages (from torchcrepe->outetts) (0.4.3)\n",
            "Requirement already satisfied: pycparser in /usr/local/lib/python3.10/dist-packages (from cffi>=1.0->soundfile->outetts) (2.22)\n",
            "Requirement already satisfied: aiohttp!=4.0.0a0,!=4.0.0a1 in /usr/local/lib/python3.10/dist-packages (from fsspec[http]>=2022.5.0->pytorch-lightning->outetts) (3.11.9)\n",
            "Requirement already satisfied: setuptools in /usr/local/lib/python3.10/dist-packages (from lightning-utilities>=0.10.0->pytorch-lightning->outetts) (75.1.0)\n",
            "Requirement already satisfied: llvmlite<0.44,>=0.43.0dev0 in /usr/local/lib/python3.10/dist-packages (from numba->openai-whisper>=20240930->outetts) (0.43.0)\n",
            "Requirement already satisfied: platformdirs>=2.5.0 in /usr/local/lib/python3.10/dist-packages (from pooch>=1.1->librosa->outetts) (4.3.6)\n",
            "Requirement already satisfied: six>=1.5 in /usr/local/lib/python3.10/dist-packages (from python-dateutil>=2.7->matplotlib->outetts) (1.16.0)\n",
            "Requirement already satisfied: threadpoolctl>=3.1.0 in /usr/local/lib/python3.10/dist-packages (from scikit-learn>=0.20.0->librosa->outetts) (3.5.0)\n",
            "Requirement already satisfied: networkx in /usr/local/lib/python3.10/dist-packages (from torch->openai-whisper>=20240930->outetts) (3.4.2)\n",
            "Requirement already satisfied: jinja2 in /usr/local/lib/python3.10/dist-packages (from torch->openai-whisper>=20240930->outetts) (3.1.4)\n",
            "Requirement already satisfied: sympy==1.13.1 in /usr/local/lib/python3.10/dist-packages (from torch->openai-whisper>=20240930->outetts) (1.13.1)\n",
            "Requirement already satisfied: mpmath<1.4,>=1.1.0 in /usr/local/lib/python3.10/dist-packages (from sympy==1.13.1->torch->openai-whisper>=20240930->outetts) (1.3.0)\n",
            "Requirement already satisfied: aiohappyeyeballs>=2.3.0 in /usr/local/lib/python3.10/dist-packages (from aiohttp!=4.0.0a0,!=4.0.0a1->fsspec[http]>=2022.5.0->pytorch-lightning->outetts) (2.4.4)\n",
            "Requirement already satisfied: aiosignal>=1.1.2 in /usr/local/lib/python3.10/dist-packages (from aiohttp!=4.0.0a0,!=4.0.0a1->fsspec[http]>=2022.5.0->pytorch-lightning->outetts) (1.3.1)\n",
            "Requirement already satisfied: async-timeout<6.0,>=4.0 in /usr/local/lib/python3.10/dist-packages (from aiohttp!=4.0.0a0,!=4.0.0a1->fsspec[http]>=2022.5.0->pytorch-lightning->outetts) (4.0.3)\n",
            "Requirement already satisfied: attrs>=17.3.0 in /usr/local/lib/python3.10/dist-packages (from aiohttp!=4.0.0a0,!=4.0.0a1->fsspec[http]>=2022.5.0->pytorch-lightning->outetts) (24.2.0)\n",
            "Requirement already satisfied: frozenlist>=1.1.1 in /usr/local/lib/python3.10/dist-packages (from aiohttp!=4.0.0a0,!=4.0.0a1->fsspec[http]>=2022.5.0->pytorch-lightning->outetts) (1.5.0)\n",
            "Requirement already satisfied: multidict<7.0,>=4.5 in /usr/local/lib/python3.10/dist-packages (from aiohttp!=4.0.0a0,!=4.0.0a1->fsspec[http]>=2022.5.0->pytorch-lightning->outetts) (6.1.0)\n",
            "Requirement already satisfied: propcache>=0.2.0 in /usr/local/lib/python3.10/dist-packages (from aiohttp!=4.0.0a0,!=4.0.0a1->fsspec[http]>=2022.5.0->pytorch-lightning->outetts) (0.2.1)\n",
            "Requirement already satisfied: yarl<2.0,>=1.17.0 in /usr/local/lib/python3.10/dist-packages (from aiohttp!=4.0.0a0,!=4.0.0a1->fsspec[http]>=2022.5.0->pytorch-lightning->outetts) (1.18.3)\n",
            "Requirement already satisfied: MarkupSafe>=2.0 in /usr/local/lib/python3.10/dist-packages (from jinja2->torch->openai-whisper>=20240930->outetts) (3.0.2)\n"
          ]
        },
        {
          "output_type": "stream",
          "name": "stderr",
          "text": [
            "/usr/local/lib/python3.10/dist-packages/torch/nn/utils/weight_norm.py:143: FutureWarning: `torch.nn.utils.weight_norm` is deprecated in favor of `torch.nn.utils.parametrizations.weight_norm`.\n",
            "  WeightNorm.apply(module, name, dim)\n"
          ]
        },
        {
          "output_type": "stream",
          "name": "stdout",
          "text": [
            "making attention of type 'vanilla' with 768 in_channels\n"
          ]
        },
        {
          "output_type": "stream",
          "name": "stderr",
          "text": [
            "/usr/local/lib/python3.10/dist-packages/outetts/wav_tokenizer/decoder/pretrained.py:101: FutureWarning: You are using `torch.load` with `weights_only=False` (the current default value), which uses the default pickle module implicitly. It is possible to construct malicious pickle data which will execute arbitrary code during unpickling (See https://github.com/pytorch/pytorch/blob/main/SECURITY.md#untrusted-models for more details). In a future release, the default value for `weights_only` will be flipped to `True`. This limits the functions that could be executed during unpickling. Arbitrary objects will no longer be allowed to be loaded via this mode unless they are explicitly allowlisted by the user via `torch.serialization.add_safe_globals`. We recommend you start setting `weights_only=True` for any use case where you don't have full control of the loaded file. Please open an issue on GitHub for any issues related to this experimental feature.\n",
            "  state_dict_raw = torch.load(model_path, map_location=\"cpu\")['state_dict']\n",
            "The attention mask and the pad token id were not set. As a consequence, you may observe unexpected behavior. Please pass your input's `attention_mask` to obtain reliable results.\n",
            "Setting `pad_token_id` to `eos_token_id`:None for open-end generation.\n"
          ]
        },
        {
          "output_type": "stream",
          "name": "stdout",
          "text": [
            "\n",
            "=== ALL AVAILABLE SPEAKERS ===\n",
            "Total: 16 speakers across 4 languages\n",
            "--------------------------------------------------\n",
            "\n",
            "EN (6 speakers):\n",
            "  - male_1\n",
            "  - male_2\n",
            "  - male_3\n",
            "  - male_4\n",
            "  - female_1\n",
            "  - female_2\n",
            "\n",
            "JA (4 speakers):\n",
            "  - male_1\n",
            "  - female_1\n",
            "  - female_2\n",
            "  - female_3\n",
            "\n",
            "KO (4 speakers):\n",
            "  - male_1\n",
            "  - male_2\n",
            "  - female_1\n",
            "  - female_2\n",
            "\n",
            "ZH (2 speakers):\n",
            "  - male_1\n",
            "  - female_1\n",
            "\n",
            "\n",
            "=== SPEAKERS FOR CURRENT INTERFACE LANGUAGE ===\n",
            "Language: EN (6 speakers)\n",
            "--------------------------------------------------\n",
            "  - male_1\n",
            "  - male_2\n",
            "  - male_3\n",
            "  - male_4\n",
            "  - female_1\n",
            "  - female_2\n",
            "\n",
            "To use a speaker: load_default_speaker(name)\n",
            "\n"
          ]
        },
        {
          "output_type": "stream",
          "name": "stderr",
          "text": [
            "\u001b[32m2024-12-09 06:09:29.174\u001b[0m | \u001b[33m\u001b[1mWARNING \u001b[0m | \u001b[36moutetts.version.v1.interface\u001b[0m:\u001b[36mplay\u001b[0m:\u001b[36m95\u001b[0m - \u001b[33m\u001b[1mAudio playback is disabled. Check sounddevice installation.\u001b[0m\n"
          ]
        }
      ]
    },
    {
      "cell_type": "code",
      "source": [],
      "metadata": {
        "id": "B6DuLUGuQukT"
      },
      "execution_count": null,
      "outputs": []
    },
    {
      "cell_type": "code",
      "source": [],
      "metadata": {
        "id": "TVdXHN_kQunA"
      },
      "execution_count": null,
      "outputs": []
    },
    {
      "cell_type": "markdown",
      "source": [
        "## Case 2 : Voice Cloning using OuteTTS"
      ],
      "metadata": {
        "id": "WigkhZ7oVmQv"
      }
    },
    {
      "cell_type": "code",
      "source": [
        "!pip install outetts\n",
        "\n",
        "import outetts\n",
        "\n",
        "# Configure the GGUF model\n",
        "model_config = outetts.GGUFModelConfig_v1(\n",
        "    model_path=\"OuteAI/OuteTTS-0.2-500M\",\n",
        "    language=\"en\", # Supported languages in v0.2: en, zh, ja, ko\n",
        "    n_gpu_layers=0,\n",
        ")\n",
        "\n",
        "# Initialize the GGUF interface\n",
        "interface = outetts.InterfaceHF(model_version=\"0.2\", cfg=model_config)\n",
        "\n",
        "speaker = interface.create_speaker(\n",
        "    audio_path=\"/content/harvard.wav\",\n",
        "    transcript=\"The stale smell of old beer lingers.It takes heat to bring out the odor.A cold dip restores health and zest.A salt pickle tastes fine with hamTacos al pastor are my favorite.A zestful food is the hot cross bun.\"\n",
        ")\n",
        "\n",
        "# Optional: Save and load speaker profiles\n",
        "interface.save_speaker(speaker, \"speaker.json\")\n",
        "speaker = interface.load_speaker(\"speaker.json\")\n",
        "\n",
        "# no need for default speakers here .\n",
        "\n",
        "output = interface.generate(\n",
        "    text=\"Marketers make change happen for the smallest viable market and by delivering anticipated, personal, \\\n",
        "        and relevant messages that people actually want to get.\",\n",
        "    # Lower temperature values may result in a more stable tone,\n",
        "    # while higher values can introduce varied and expressive speech\n",
        "    temperature=0.1,\n",
        "    repetition_penalty=1.1,\n",
        "    max_length=4096,\n",
        "\n",
        "    # Optional: Use a speaker profile for consistent voice characteristics\n",
        "    # Without a speaker profile, the model will generate a voice with random characteristics\n",
        "    speaker=speaker,\n",
        ")\n",
        "\n",
        "# Save the synthesized speech to a file\n",
        "output.save(\"speech_op_2.wav\")\n",
        "\n",
        "# Optional: Play the synthesized speech\n",
        "output.play()\n"
      ],
      "metadata": {
        "colab": {
          "base_uri": "https://localhost:8080/"
        },
        "id": "15eSoZkmQupJ",
        "outputId": "cd0e2ce2-b2fc-419d-def7-3d5ce7aae272"
      },
      "execution_count": 3,
      "outputs": [
        {
          "output_type": "stream",
          "name": "stdout",
          "text": [
            "Requirement already satisfied: outetts in /usr/local/lib/python3.10/dist-packages (0.2.1)\n",
            "Requirement already satisfied: scipy in /usr/local/lib/python3.10/dist-packages (from outetts) (1.13.1)\n",
            "Requirement already satisfied: einops in /usr/local/lib/python3.10/dist-packages (from outetts) (0.8.0)\n",
            "Requirement already satisfied: pyyaml in /usr/local/lib/python3.10/dist-packages (from outetts) (6.0.2)\n",
            "Requirement already satisfied: huggingface-hub in /usr/local/lib/python3.10/dist-packages (from outetts) (0.26.3)\n",
            "Requirement already satisfied: encodec in /usr/local/lib/python3.10/dist-packages (from outetts) (0.1.1)\n",
            "Requirement already satisfied: matplotlib in /usr/local/lib/python3.10/dist-packages (from outetts) (3.8.0)\n",
            "Requirement already satisfied: transformers>=4.46.1 in /usr/local/lib/python3.10/dist-packages (from outetts) (4.46.3)\n",
            "Requirement already satisfied: pytorch-lightning in /usr/local/lib/python3.10/dist-packages (from outetts) (2.4.0)\n",
            "Requirement already satisfied: tensorboardX in /usr/local/lib/python3.10/dist-packages (from outetts) (2.6.2.2)\n",
            "Requirement already satisfied: soundfile in /usr/local/lib/python3.10/dist-packages (from outetts) (0.12.1)\n",
            "Requirement already satisfied: numpy in /usr/local/lib/python3.10/dist-packages (from outetts) (1.26.4)\n",
            "Requirement already satisfied: jsonargparse in /usr/local/lib/python3.10/dist-packages (from outetts) (4.34.1)\n",
            "Requirement already satisfied: torchcrepe in /usr/local/lib/python3.10/dist-packages (from outetts) (0.0.23)\n",
            "Requirement already satisfied: librosa in /usr/local/lib/python3.10/dist-packages (from outetts) (0.10.2.post1)\n",
            "Requirement already satisfied: pesq in /usr/local/lib/python3.10/dist-packages (from outetts) (0.0.4)\n",
            "Requirement already satisfied: inflect in /usr/local/lib/python3.10/dist-packages (from outetts) (7.4.0)\n",
            "Requirement already satisfied: loguru in /usr/local/lib/python3.10/dist-packages (from outetts) (0.7.3)\n",
            "Requirement already satisfied: polars in /usr/local/lib/python3.10/dist-packages (from outetts) (1.9.0)\n",
            "Requirement already satisfied: natsort in /usr/local/lib/python3.10/dist-packages (from outetts) (8.4.0)\n",
            "Requirement already satisfied: tqdm in /usr/local/lib/python3.10/dist-packages (from outetts) (4.66.6)\n",
            "Requirement already satisfied: requests in /usr/local/lib/python3.10/dist-packages (from outetts) (2.32.3)\n",
            "Requirement already satisfied: sounddevice in /usr/local/lib/python3.10/dist-packages (from outetts) (0.5.1)\n",
            "Requirement already satisfied: mecab-python3 in /usr/local/lib/python3.10/dist-packages (from outetts) (1.0.10)\n",
            "Requirement already satisfied: unidic-lite in /usr/local/lib/python3.10/dist-packages (from outetts) (1.0.8)\n",
            "Requirement already satisfied: uroman in /usr/local/lib/python3.10/dist-packages (from outetts) (1.3.1.1)\n",
            "Requirement already satisfied: openai-whisper>=20240930 in /usr/local/lib/python3.10/dist-packages (from outetts) (20240930)\n",
            "Requirement already satisfied: numba in /usr/local/lib/python3.10/dist-packages (from openai-whisper>=20240930->outetts) (0.60.0)\n",
            "Requirement already satisfied: torch in /usr/local/lib/python3.10/dist-packages (from openai-whisper>=20240930->outetts) (2.5.1+cu121)\n",
            "Requirement already satisfied: more-itertools in /usr/local/lib/python3.10/dist-packages (from openai-whisper>=20240930->outetts) (10.5.0)\n",
            "Requirement already satisfied: tiktoken in /usr/local/lib/python3.10/dist-packages (from openai-whisper>=20240930->outetts) (0.8.0)\n",
            "Requirement already satisfied: triton>=2.0.0 in /usr/local/lib/python3.10/dist-packages (from openai-whisper>=20240930->outetts) (3.1.0)\n",
            "Requirement already satisfied: filelock in /usr/local/lib/python3.10/dist-packages (from transformers>=4.46.1->outetts) (3.16.1)\n",
            "Requirement already satisfied: packaging>=20.0 in /usr/local/lib/python3.10/dist-packages (from transformers>=4.46.1->outetts) (24.2)\n",
            "Requirement already satisfied: regex!=2019.12.17 in /usr/local/lib/python3.10/dist-packages (from transformers>=4.46.1->outetts) (2024.9.11)\n",
            "Requirement already satisfied: tokenizers<0.21,>=0.20 in /usr/local/lib/python3.10/dist-packages (from transformers>=4.46.1->outetts) (0.20.3)\n",
            "Requirement already satisfied: safetensors>=0.4.1 in /usr/local/lib/python3.10/dist-packages (from transformers>=4.46.1->outetts) (0.4.5)\n",
            "Requirement already satisfied: fsspec>=2023.5.0 in /usr/local/lib/python3.10/dist-packages (from huggingface-hub->outetts) (2024.10.0)\n",
            "Requirement already satisfied: typing-extensions>=3.7.4.3 in /usr/local/lib/python3.10/dist-packages (from huggingface-hub->outetts) (4.12.2)\n",
            "Requirement already satisfied: torchaudio in /usr/local/lib/python3.10/dist-packages (from encodec->outetts) (2.5.1+cu121)\n",
            "Requirement already satisfied: typeguard>=4.0.1 in /usr/local/lib/python3.10/dist-packages (from inflect->outetts) (4.4.1)\n",
            "Requirement already satisfied: audioread>=2.1.9 in /usr/local/lib/python3.10/dist-packages (from librosa->outetts) (3.0.1)\n",
            "Requirement already satisfied: scikit-learn>=0.20.0 in /usr/local/lib/python3.10/dist-packages (from librosa->outetts) (1.5.2)\n",
            "Requirement already satisfied: joblib>=0.14 in /usr/local/lib/python3.10/dist-packages (from librosa->outetts) (1.4.2)\n",
            "Requirement already satisfied: decorator>=4.3.0 in /usr/local/lib/python3.10/dist-packages (from librosa->outetts) (4.4.2)\n",
            "Requirement already satisfied: pooch>=1.1 in /usr/local/lib/python3.10/dist-packages (from librosa->outetts) (1.8.2)\n",
            "Requirement already satisfied: soxr>=0.3.2 in /usr/local/lib/python3.10/dist-packages (from librosa->outetts) (0.5.0.post1)\n",
            "Requirement already satisfied: lazy-loader>=0.1 in /usr/local/lib/python3.10/dist-packages (from librosa->outetts) (0.4)\n",
            "Requirement already satisfied: msgpack>=1.0 in /usr/local/lib/python3.10/dist-packages (from librosa->outetts) (1.1.0)\n",
            "Requirement already satisfied: cffi>=1.0 in /usr/local/lib/python3.10/dist-packages (from soundfile->outetts) (1.17.1)\n",
            "Requirement already satisfied: contourpy>=1.0.1 in /usr/local/lib/python3.10/dist-packages (from matplotlib->outetts) (1.3.1)\n",
            "Requirement already satisfied: cycler>=0.10 in /usr/local/lib/python3.10/dist-packages (from matplotlib->outetts) (0.12.1)\n",
            "Requirement already satisfied: fonttools>=4.22.0 in /usr/local/lib/python3.10/dist-packages (from matplotlib->outetts) (4.55.1)\n",
            "Requirement already satisfied: kiwisolver>=1.0.1 in /usr/local/lib/python3.10/dist-packages (from matplotlib->outetts) (1.4.7)\n",
            "Requirement already satisfied: pillow>=6.2.0 in /usr/local/lib/python3.10/dist-packages (from matplotlib->outetts) (11.0.0)\n",
            "Requirement already satisfied: pyparsing>=2.3.1 in /usr/local/lib/python3.10/dist-packages (from matplotlib->outetts) (3.2.0)\n",
            "Requirement already satisfied: python-dateutil>=2.7 in /usr/local/lib/python3.10/dist-packages (from matplotlib->outetts) (2.8.2)\n",
            "Requirement already satisfied: torchmetrics>=0.7.0 in /usr/local/lib/python3.10/dist-packages (from pytorch-lightning->outetts) (1.6.0)\n",
            "Requirement already satisfied: lightning-utilities>=0.10.0 in /usr/local/lib/python3.10/dist-packages (from pytorch-lightning->outetts) (0.11.9)\n",
            "Requirement already satisfied: charset-normalizer<4,>=2 in /usr/local/lib/python3.10/dist-packages (from requests->outetts) (3.4.0)\n",
            "Requirement already satisfied: idna<4,>=2.5 in /usr/local/lib/python3.10/dist-packages (from requests->outetts) (3.10)\n",
            "Requirement already satisfied: urllib3<3,>=1.21.1 in /usr/local/lib/python3.10/dist-packages (from requests->outetts) (2.2.3)\n",
            "Requirement already satisfied: certifi>=2017.4.17 in /usr/local/lib/python3.10/dist-packages (from requests->outetts) (2024.8.30)\n",
            "Requirement already satisfied: protobuf>=3.20 in /usr/local/lib/python3.10/dist-packages (from tensorboardX->outetts) (4.25.5)\n",
            "Requirement already satisfied: resampy in /usr/local/lib/python3.10/dist-packages (from torchcrepe->outetts) (0.4.3)\n",
            "Requirement already satisfied: pycparser in /usr/local/lib/python3.10/dist-packages (from cffi>=1.0->soundfile->outetts) (2.22)\n",
            "Requirement already satisfied: aiohttp!=4.0.0a0,!=4.0.0a1 in /usr/local/lib/python3.10/dist-packages (from fsspec[http]>=2022.5.0->pytorch-lightning->outetts) (3.11.9)\n",
            "Requirement already satisfied: setuptools in /usr/local/lib/python3.10/dist-packages (from lightning-utilities>=0.10.0->pytorch-lightning->outetts) (75.1.0)\n",
            "Requirement already satisfied: llvmlite<0.44,>=0.43.0dev0 in /usr/local/lib/python3.10/dist-packages (from numba->openai-whisper>=20240930->outetts) (0.43.0)\n",
            "Requirement already satisfied: platformdirs>=2.5.0 in /usr/local/lib/python3.10/dist-packages (from pooch>=1.1->librosa->outetts) (4.3.6)\n",
            "Requirement already satisfied: six>=1.5 in /usr/local/lib/python3.10/dist-packages (from python-dateutil>=2.7->matplotlib->outetts) (1.16.0)\n",
            "Requirement already satisfied: threadpoolctl>=3.1.0 in /usr/local/lib/python3.10/dist-packages (from scikit-learn>=0.20.0->librosa->outetts) (3.5.0)\n",
            "Requirement already satisfied: networkx in /usr/local/lib/python3.10/dist-packages (from torch->openai-whisper>=20240930->outetts) (3.4.2)\n",
            "Requirement already satisfied: jinja2 in /usr/local/lib/python3.10/dist-packages (from torch->openai-whisper>=20240930->outetts) (3.1.4)\n",
            "Requirement already satisfied: sympy==1.13.1 in /usr/local/lib/python3.10/dist-packages (from torch->openai-whisper>=20240930->outetts) (1.13.1)\n",
            "Requirement already satisfied: mpmath<1.4,>=1.1.0 in /usr/local/lib/python3.10/dist-packages (from sympy==1.13.1->torch->openai-whisper>=20240930->outetts) (1.3.0)\n",
            "Requirement already satisfied: aiohappyeyeballs>=2.3.0 in /usr/local/lib/python3.10/dist-packages (from aiohttp!=4.0.0a0,!=4.0.0a1->fsspec[http]>=2022.5.0->pytorch-lightning->outetts) (2.4.4)\n",
            "Requirement already satisfied: aiosignal>=1.1.2 in /usr/local/lib/python3.10/dist-packages (from aiohttp!=4.0.0a0,!=4.0.0a1->fsspec[http]>=2022.5.0->pytorch-lightning->outetts) (1.3.1)\n",
            "Requirement already satisfied: async-timeout<6.0,>=4.0 in /usr/local/lib/python3.10/dist-packages (from aiohttp!=4.0.0a0,!=4.0.0a1->fsspec[http]>=2022.5.0->pytorch-lightning->outetts) (4.0.3)\n",
            "Requirement already satisfied: attrs>=17.3.0 in /usr/local/lib/python3.10/dist-packages (from aiohttp!=4.0.0a0,!=4.0.0a1->fsspec[http]>=2022.5.0->pytorch-lightning->outetts) (24.2.0)\n",
            "Requirement already satisfied: frozenlist>=1.1.1 in /usr/local/lib/python3.10/dist-packages (from aiohttp!=4.0.0a0,!=4.0.0a1->fsspec[http]>=2022.5.0->pytorch-lightning->outetts) (1.5.0)\n",
            "Requirement already satisfied: multidict<7.0,>=4.5 in /usr/local/lib/python3.10/dist-packages (from aiohttp!=4.0.0a0,!=4.0.0a1->fsspec[http]>=2022.5.0->pytorch-lightning->outetts) (6.1.0)\n",
            "Requirement already satisfied: propcache>=0.2.0 in /usr/local/lib/python3.10/dist-packages (from aiohttp!=4.0.0a0,!=4.0.0a1->fsspec[http]>=2022.5.0->pytorch-lightning->outetts) (0.2.1)\n",
            "Requirement already satisfied: yarl<2.0,>=1.17.0 in /usr/local/lib/python3.10/dist-packages (from aiohttp!=4.0.0a0,!=4.0.0a1->fsspec[http]>=2022.5.0->pytorch-lightning->outetts) (1.18.3)\n",
            "Requirement already satisfied: MarkupSafe>=2.0 in /usr/local/lib/python3.10/dist-packages (from jinja2->torch->openai-whisper>=20240930->outetts) (3.0.2)\n",
            "making attention of type 'vanilla' with 768 in_channels\n"
          ]
        },
        {
          "output_type": "stream",
          "name": "stderr",
          "text": [
            "Downloading: \"https://dl.fbaipublicfiles.com/mms/torchaudio/ctc_alignment_mling_uroman/model.pt\" to /root/.cache/torch/hub/checkpoints/model.pt\n",
            "100%|██████████| 1.18G/1.18G [00:09<00:00, 129MB/s]\n",
            "The attention mask and the pad token id were not set. As a consequence, you may observe unexpected behavior. Please pass your input's `attention_mask` to obtain reliable results.\n",
            "Setting `pad_token_id` to `eos_token_id`:None for open-end generation.\n",
            "\u001b[32m2024-12-09 06:11:14.290\u001b[0m | \u001b[33m\u001b[1mWARNING \u001b[0m | \u001b[36moutetts.version.v1.interface\u001b[0m:\u001b[36mplay\u001b[0m:\u001b[36m95\u001b[0m - \u001b[33m\u001b[1mAudio playback is disabled. Check sounddevice installation.\u001b[0m\n"
          ]
        }
      ]
    },
    {
      "cell_type": "markdown",
      "source": [
        "## Case 3 : Voice Cloning with candidate audio sample"
      ],
      "metadata": {
        "id": "yLiUYtOyado1"
      }
    },
    {
      "cell_type": "code",
      "source": [],
      "metadata": {
        "id": "heGLBhRcYiLk"
      },
      "execution_count": null,
      "outputs": []
    },
    {
      "cell_type": "code",
      "source": [
        "!pip install outetts\n",
        "\n",
        "import outetts\n",
        "\n",
        "# Configure the GGUF model\n",
        "model_config = outetts.GGUFModelConfig_v1(\n",
        "    model_path=\"OuteAI/OuteTTS-0.2-500M\",\n",
        "    language=\"en\", # Supported languages in v0.2: en, zh, ja, ko\n",
        "    n_gpu_layers=0,\n",
        ")\n",
        "\n",
        "# Initialize the GGUF interface\n",
        "interface = outetts.InterfaceHF(model_version=\"0.2\", cfg=model_config)\n",
        "\n",
        "speaker = interface.create_speaker(\n",
        "    audio_path=\"/content/Chirantan_audio.wav\",\n",
        "    transcript=\"Marketers make change happen for the smallest viable market and by delivering anticipated, personal, \\\n",
        "        and relevant messages that people actually want to get\"\n",
        ")\n",
        "\n",
        "# Optional: Save and load speaker profiles\n",
        "interface.save_speaker(speaker, \"speaker.json\")\n",
        "speaker = interface.load_speaker(\"speaker.json\")\n",
        "\n",
        "# no need for default speakers here .\n",
        "\n",
        "output = interface.generate(\n",
        "    text=\"Marketers make change happen for the smallest viable market and by delivering anticipated, personal, \\\n",
        "        and relevant messages that people actually want to get.\",\n",
        "    # Lower temperature values may result in a more stable tone,\n",
        "    # while higher values can introduce varied and expressive speech\n",
        "    temperature=0.1,\n",
        "    repetition_penalty=1.1,\n",
        "    max_length=4096,\n",
        "\n",
        "    # Optional: Use a speaker profile for consistent voice characteristics\n",
        "    # Without a speaker profile, the model will generate a voice with random characteristics\n",
        "    speaker=speaker,\n",
        ")\n",
        "\n",
        "# Save the synthesized speech to a file\n",
        "output.save(\"speech_op_voiceClone.wav\")\n",
        "\n",
        "# Optional: Play the synthesized speech\n",
        "output.play()\n"
      ],
      "metadata": {
        "colab": {
          "base_uri": "https://localhost:8080/"
        },
        "id": "m0Bd90wcQurZ",
        "outputId": "65ee736a-a1d4-4fa7-d826-34fac254517e"
      },
      "execution_count": 4,
      "outputs": [
        {
          "output_type": "stream",
          "name": "stdout",
          "text": [
            "Requirement already satisfied: outetts in /usr/local/lib/python3.10/dist-packages (0.2.1)\n",
            "Requirement already satisfied: scipy in /usr/local/lib/python3.10/dist-packages (from outetts) (1.13.1)\n",
            "Requirement already satisfied: einops in /usr/local/lib/python3.10/dist-packages (from outetts) (0.8.0)\n",
            "Requirement already satisfied: pyyaml in /usr/local/lib/python3.10/dist-packages (from outetts) (6.0.2)\n",
            "Requirement already satisfied: huggingface-hub in /usr/local/lib/python3.10/dist-packages (from outetts) (0.26.3)\n",
            "Requirement already satisfied: encodec in /usr/local/lib/python3.10/dist-packages (from outetts) (0.1.1)\n",
            "Requirement already satisfied: matplotlib in /usr/local/lib/python3.10/dist-packages (from outetts) (3.8.0)\n",
            "Requirement already satisfied: transformers>=4.46.1 in /usr/local/lib/python3.10/dist-packages (from outetts) (4.46.3)\n",
            "Requirement already satisfied: pytorch-lightning in /usr/local/lib/python3.10/dist-packages (from outetts) (2.4.0)\n",
            "Requirement already satisfied: tensorboardX in /usr/local/lib/python3.10/dist-packages (from outetts) (2.6.2.2)\n",
            "Requirement already satisfied: soundfile in /usr/local/lib/python3.10/dist-packages (from outetts) (0.12.1)\n",
            "Requirement already satisfied: numpy in /usr/local/lib/python3.10/dist-packages (from outetts) (1.26.4)\n",
            "Requirement already satisfied: jsonargparse in /usr/local/lib/python3.10/dist-packages (from outetts) (4.34.1)\n",
            "Requirement already satisfied: torchcrepe in /usr/local/lib/python3.10/dist-packages (from outetts) (0.0.23)\n",
            "Requirement already satisfied: librosa in /usr/local/lib/python3.10/dist-packages (from outetts) (0.10.2.post1)\n",
            "Requirement already satisfied: pesq in /usr/local/lib/python3.10/dist-packages (from outetts) (0.0.4)\n",
            "Requirement already satisfied: inflect in /usr/local/lib/python3.10/dist-packages (from outetts) (7.4.0)\n",
            "Requirement already satisfied: loguru in /usr/local/lib/python3.10/dist-packages (from outetts) (0.7.3)\n",
            "Requirement already satisfied: polars in /usr/local/lib/python3.10/dist-packages (from outetts) (1.9.0)\n",
            "Requirement already satisfied: natsort in /usr/local/lib/python3.10/dist-packages (from outetts) (8.4.0)\n",
            "Requirement already satisfied: tqdm in /usr/local/lib/python3.10/dist-packages (from outetts) (4.66.6)\n",
            "Requirement already satisfied: requests in /usr/local/lib/python3.10/dist-packages (from outetts) (2.32.3)\n",
            "Requirement already satisfied: sounddevice in /usr/local/lib/python3.10/dist-packages (from outetts) (0.5.1)\n",
            "Requirement already satisfied: mecab-python3 in /usr/local/lib/python3.10/dist-packages (from outetts) (1.0.10)\n",
            "Requirement already satisfied: unidic-lite in /usr/local/lib/python3.10/dist-packages (from outetts) (1.0.8)\n",
            "Requirement already satisfied: uroman in /usr/local/lib/python3.10/dist-packages (from outetts) (1.3.1.1)\n",
            "Requirement already satisfied: openai-whisper>=20240930 in /usr/local/lib/python3.10/dist-packages (from outetts) (20240930)\n",
            "Requirement already satisfied: numba in /usr/local/lib/python3.10/dist-packages (from openai-whisper>=20240930->outetts) (0.60.0)\n",
            "Requirement already satisfied: torch in /usr/local/lib/python3.10/dist-packages (from openai-whisper>=20240930->outetts) (2.5.1+cu121)\n",
            "Requirement already satisfied: more-itertools in /usr/local/lib/python3.10/dist-packages (from openai-whisper>=20240930->outetts) (10.5.0)\n",
            "Requirement already satisfied: tiktoken in /usr/local/lib/python3.10/dist-packages (from openai-whisper>=20240930->outetts) (0.8.0)\n",
            "Requirement already satisfied: triton>=2.0.0 in /usr/local/lib/python3.10/dist-packages (from openai-whisper>=20240930->outetts) (3.1.0)\n",
            "Requirement already satisfied: filelock in /usr/local/lib/python3.10/dist-packages (from transformers>=4.46.1->outetts) (3.16.1)\n",
            "Requirement already satisfied: packaging>=20.0 in /usr/local/lib/python3.10/dist-packages (from transformers>=4.46.1->outetts) (24.2)\n",
            "Requirement already satisfied: regex!=2019.12.17 in /usr/local/lib/python3.10/dist-packages (from transformers>=4.46.1->outetts) (2024.9.11)\n",
            "Requirement already satisfied: tokenizers<0.21,>=0.20 in /usr/local/lib/python3.10/dist-packages (from transformers>=4.46.1->outetts) (0.20.3)\n",
            "Requirement already satisfied: safetensors>=0.4.1 in /usr/local/lib/python3.10/dist-packages (from transformers>=4.46.1->outetts) (0.4.5)\n",
            "Requirement already satisfied: fsspec>=2023.5.0 in /usr/local/lib/python3.10/dist-packages (from huggingface-hub->outetts) (2024.10.0)\n",
            "Requirement already satisfied: typing-extensions>=3.7.4.3 in /usr/local/lib/python3.10/dist-packages (from huggingface-hub->outetts) (4.12.2)\n",
            "Requirement already satisfied: torchaudio in /usr/local/lib/python3.10/dist-packages (from encodec->outetts) (2.5.1+cu121)\n",
            "Requirement already satisfied: typeguard>=4.0.1 in /usr/local/lib/python3.10/dist-packages (from inflect->outetts) (4.4.1)\n",
            "Requirement already satisfied: audioread>=2.1.9 in /usr/local/lib/python3.10/dist-packages (from librosa->outetts) (3.0.1)\n",
            "Requirement already satisfied: scikit-learn>=0.20.0 in /usr/local/lib/python3.10/dist-packages (from librosa->outetts) (1.5.2)\n",
            "Requirement already satisfied: joblib>=0.14 in /usr/local/lib/python3.10/dist-packages (from librosa->outetts) (1.4.2)\n",
            "Requirement already satisfied: decorator>=4.3.0 in /usr/local/lib/python3.10/dist-packages (from librosa->outetts) (4.4.2)\n",
            "Requirement already satisfied: pooch>=1.1 in /usr/local/lib/python3.10/dist-packages (from librosa->outetts) (1.8.2)\n",
            "Requirement already satisfied: soxr>=0.3.2 in /usr/local/lib/python3.10/dist-packages (from librosa->outetts) (0.5.0.post1)\n",
            "Requirement already satisfied: lazy-loader>=0.1 in /usr/local/lib/python3.10/dist-packages (from librosa->outetts) (0.4)\n",
            "Requirement already satisfied: msgpack>=1.0 in /usr/local/lib/python3.10/dist-packages (from librosa->outetts) (1.1.0)\n",
            "Requirement already satisfied: cffi>=1.0 in /usr/local/lib/python3.10/dist-packages (from soundfile->outetts) (1.17.1)\n",
            "Requirement already satisfied: contourpy>=1.0.1 in /usr/local/lib/python3.10/dist-packages (from matplotlib->outetts) (1.3.1)\n",
            "Requirement already satisfied: cycler>=0.10 in /usr/local/lib/python3.10/dist-packages (from matplotlib->outetts) (0.12.1)\n",
            "Requirement already satisfied: fonttools>=4.22.0 in /usr/local/lib/python3.10/dist-packages (from matplotlib->outetts) (4.55.1)\n",
            "Requirement already satisfied: kiwisolver>=1.0.1 in /usr/local/lib/python3.10/dist-packages (from matplotlib->outetts) (1.4.7)\n",
            "Requirement already satisfied: pillow>=6.2.0 in /usr/local/lib/python3.10/dist-packages (from matplotlib->outetts) (11.0.0)\n",
            "Requirement already satisfied: pyparsing>=2.3.1 in /usr/local/lib/python3.10/dist-packages (from matplotlib->outetts) (3.2.0)\n",
            "Requirement already satisfied: python-dateutil>=2.7 in /usr/local/lib/python3.10/dist-packages (from matplotlib->outetts) (2.8.2)\n",
            "Requirement already satisfied: torchmetrics>=0.7.0 in /usr/local/lib/python3.10/dist-packages (from pytorch-lightning->outetts) (1.6.0)\n",
            "Requirement already satisfied: lightning-utilities>=0.10.0 in /usr/local/lib/python3.10/dist-packages (from pytorch-lightning->outetts) (0.11.9)\n",
            "Requirement already satisfied: charset-normalizer<4,>=2 in /usr/local/lib/python3.10/dist-packages (from requests->outetts) (3.4.0)\n",
            "Requirement already satisfied: idna<4,>=2.5 in /usr/local/lib/python3.10/dist-packages (from requests->outetts) (3.10)\n",
            "Requirement already satisfied: urllib3<3,>=1.21.1 in /usr/local/lib/python3.10/dist-packages (from requests->outetts) (2.2.3)\n",
            "Requirement already satisfied: certifi>=2017.4.17 in /usr/local/lib/python3.10/dist-packages (from requests->outetts) (2024.8.30)\n",
            "Requirement already satisfied: protobuf>=3.20 in /usr/local/lib/python3.10/dist-packages (from tensorboardX->outetts) (4.25.5)\n",
            "Requirement already satisfied: resampy in /usr/local/lib/python3.10/dist-packages (from torchcrepe->outetts) (0.4.3)\n",
            "Requirement already satisfied: pycparser in /usr/local/lib/python3.10/dist-packages (from cffi>=1.0->soundfile->outetts) (2.22)\n",
            "Requirement already satisfied: aiohttp!=4.0.0a0,!=4.0.0a1 in /usr/local/lib/python3.10/dist-packages (from fsspec[http]>=2022.5.0->pytorch-lightning->outetts) (3.11.9)\n",
            "Requirement already satisfied: setuptools in /usr/local/lib/python3.10/dist-packages (from lightning-utilities>=0.10.0->pytorch-lightning->outetts) (75.1.0)\n",
            "Requirement already satisfied: llvmlite<0.44,>=0.43.0dev0 in /usr/local/lib/python3.10/dist-packages (from numba->openai-whisper>=20240930->outetts) (0.43.0)\n",
            "Requirement already satisfied: platformdirs>=2.5.0 in /usr/local/lib/python3.10/dist-packages (from pooch>=1.1->librosa->outetts) (4.3.6)\n",
            "Requirement already satisfied: six>=1.5 in /usr/local/lib/python3.10/dist-packages (from python-dateutil>=2.7->matplotlib->outetts) (1.16.0)\n",
            "Requirement already satisfied: threadpoolctl>=3.1.0 in /usr/local/lib/python3.10/dist-packages (from scikit-learn>=0.20.0->librosa->outetts) (3.5.0)\n",
            "Requirement already satisfied: networkx in /usr/local/lib/python3.10/dist-packages (from torch->openai-whisper>=20240930->outetts) (3.4.2)\n",
            "Requirement already satisfied: jinja2 in /usr/local/lib/python3.10/dist-packages (from torch->openai-whisper>=20240930->outetts) (3.1.4)\n",
            "Requirement already satisfied: sympy==1.13.1 in /usr/local/lib/python3.10/dist-packages (from torch->openai-whisper>=20240930->outetts) (1.13.1)\n",
            "Requirement already satisfied: mpmath<1.4,>=1.1.0 in /usr/local/lib/python3.10/dist-packages (from sympy==1.13.1->torch->openai-whisper>=20240930->outetts) (1.3.0)\n",
            "Requirement already satisfied: aiohappyeyeballs>=2.3.0 in /usr/local/lib/python3.10/dist-packages (from aiohttp!=4.0.0a0,!=4.0.0a1->fsspec[http]>=2022.5.0->pytorch-lightning->outetts) (2.4.4)\n",
            "Requirement already satisfied: aiosignal>=1.1.2 in /usr/local/lib/python3.10/dist-packages (from aiohttp!=4.0.0a0,!=4.0.0a1->fsspec[http]>=2022.5.0->pytorch-lightning->outetts) (1.3.1)\n",
            "Requirement already satisfied: async-timeout<6.0,>=4.0 in /usr/local/lib/python3.10/dist-packages (from aiohttp!=4.0.0a0,!=4.0.0a1->fsspec[http]>=2022.5.0->pytorch-lightning->outetts) (4.0.3)\n",
            "Requirement already satisfied: attrs>=17.3.0 in /usr/local/lib/python3.10/dist-packages (from aiohttp!=4.0.0a0,!=4.0.0a1->fsspec[http]>=2022.5.0->pytorch-lightning->outetts) (24.2.0)\n",
            "Requirement already satisfied: frozenlist>=1.1.1 in /usr/local/lib/python3.10/dist-packages (from aiohttp!=4.0.0a0,!=4.0.0a1->fsspec[http]>=2022.5.0->pytorch-lightning->outetts) (1.5.0)\n",
            "Requirement already satisfied: multidict<7.0,>=4.5 in /usr/local/lib/python3.10/dist-packages (from aiohttp!=4.0.0a0,!=4.0.0a1->fsspec[http]>=2022.5.0->pytorch-lightning->outetts) (6.1.0)\n",
            "Requirement already satisfied: propcache>=0.2.0 in /usr/local/lib/python3.10/dist-packages (from aiohttp!=4.0.0a0,!=4.0.0a1->fsspec[http]>=2022.5.0->pytorch-lightning->outetts) (0.2.1)\n",
            "Requirement already satisfied: yarl<2.0,>=1.17.0 in /usr/local/lib/python3.10/dist-packages (from aiohttp!=4.0.0a0,!=4.0.0a1->fsspec[http]>=2022.5.0->pytorch-lightning->outetts) (1.18.3)\n",
            "Requirement already satisfied: MarkupSafe>=2.0 in /usr/local/lib/python3.10/dist-packages (from jinja2->torch->openai-whisper>=20240930->outetts) (3.0.2)\n",
            "making attention of type 'vanilla' with 768 in_channels\n"
          ]
        },
        {
          "output_type": "stream",
          "name": "stderr",
          "text": [
            "The attention mask and the pad token id were not set. As a consequence, you may observe unexpected behavior. Please pass your input's `attention_mask` to obtain reliable results.\n",
            "Setting `pad_token_id` to `eos_token_id`:None for open-end generation.\n",
            "\u001b[32m2024-12-09 06:13:19.707\u001b[0m | \u001b[33m\u001b[1mWARNING \u001b[0m | \u001b[36moutetts.version.v1.interface\u001b[0m:\u001b[36mplay\u001b[0m:\u001b[36m95\u001b[0m - \u001b[33m\u001b[1mAudio playback is disabled. Check sounddevice installation.\u001b[0m\n"
          ]
        }
      ]
    },
    {
      "cell_type": "code",
      "source": [],
      "metadata": {
        "id": "4QkASYnlaV6q"
      },
      "execution_count": null,
      "outputs": []
    },
    {
      "cell_type": "code",
      "source": [],
      "metadata": {
        "id": "G7z3ZhV8aV_R"
      },
      "execution_count": null,
      "outputs": []
    },
    {
      "cell_type": "code",
      "source": [],
      "metadata": {
        "id": "d3osWjx0NjmF"
      },
      "execution_count": null,
      "outputs": []
    },
    {
      "cell_type": "code",
      "source": [],
      "metadata": {
        "id": "14xp0vf0zrQv"
      },
      "execution_count": null,
      "outputs": []
    },
    {
      "cell_type": "code",
      "source": [],
      "metadata": {
        "id": "Pr7K3_fjzrTE"
      },
      "execution_count": null,
      "outputs": []
    },
    {
      "cell_type": "code",
      "source": [],
      "metadata": {
        "id": "G7aIYbORzrVZ"
      },
      "execution_count": null,
      "outputs": []
    },
    {
      "cell_type": "code",
      "source": [],
      "metadata": {
        "id": "gj-E5bgtzrXf"
      },
      "execution_count": null,
      "outputs": []
    }
  ]
}